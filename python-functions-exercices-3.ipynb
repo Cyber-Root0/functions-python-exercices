{
  "nbformat": 4,
  "nbformat_minor": 0,
  "metadata": {
    "colab": {
      "provenance": [],
      "collapsed_sections": [],
      "include_colab_link": true
    },
    "kernelspec": {
      "name": "python3",
      "display_name": "Python 3"
    }
  },
  "cells": [
    {
      "cell_type": "markdown",
      "metadata": {
        "id": "view-in-github",
        "colab_type": "text"
      },
      "source": [
        "<a href=\"https://colab.research.google.com/github/Cyber-Root0/functions-python-exercices/blob/main/python-functions-exercices-3.ipynb\" target=\"_parent\"><img src=\"https://colab.research.google.com/assets/colab-badge.svg\" alt=\"Open In Colab\"/></a>"
      ]
    },
    {
      "cell_type": "markdown",
      "metadata": {
        "id": "skN-Wz61xZzi"
      },
      "source": [
        "### 1. (Função com retorno sem parâmetro) Faça um programa contendo uma função/método que leia um número e o multiplique por 2 retornando o resultado e o apresente."
      ]
    },
    {
      "cell_type": "code",
      "metadata": {
        "id": "Wbjafj_QxWP-",
        "colab": {
          "base_uri": "https://localhost:8080/"
        },
        "outputId": "97367410-4ba4-4f89-8ce4-3040d1158d8c"
      },
      "source": [
        "def multiplicar():\n",
        "    numero = int(input('Digite um número: '))\n",
        "    r = numero * 2\n",
        "    return r\n",
        "    print('Bom dia')\n",
        "\n",
        "def main():\n",
        "    #1ª forma de chamar uma função com retorno....OU...\n",
        "    resultado = multiplicar()\n",
        "    print('O resultado é',resultado)\n",
        "\n",
        "    #2ª forma de chamar uma função com retorno.........\n",
        "    print('O resultado é',multiplicar())\n",
        "    \n",
        "main() "
      ],
      "execution_count": null,
      "outputs": [
        {
          "output_type": "stream",
          "name": "stdout",
          "text": [
            "Digite um número: 10\n",
            "O resultado é 20\n",
            "Digite um número: 8\n",
            "O resultado é 16\n"
          ]
        }
      ]
    },
    {
      "cell_type": "markdown",
      "metadata": {
        "id": "0jPoba3-yLnG"
      },
      "source": [
        "### 2. (Função com retorno sem parâmetro) Faça um programa contendo uma função/método para subtrair dois números, retornar o resultado e o apresentando."
      ]
    },
    {
      "cell_type": "code",
      "metadata": {
        "id": "UHD2oMlJyLzc",
        "colab": {
          "base_uri": "https://localhost:8080/"
        },
        "outputId": "b9d4852b-ae7a-4a3c-ba8f-d52eac56a1fc"
      },
      "source": [
        "import random\n",
        "def function():\n",
        "  return (random.randint(0,500))-(random.randint(0,499)) #Utilizei numeros randomicos aqui...\n",
        "def main():\n",
        "  print('Subtração: ',str(function()))\n",
        "main()"
      ],
      "execution_count": null,
      "outputs": [
        {
          "output_type": "stream",
          "name": "stdout",
          "text": [
            "Subtração:  92\n"
          ]
        }
      ]
    },
    {
      "cell_type": "markdown",
      "metadata": {
        "id": "4zGuLRRXt0D_"
      },
      "source": [
        "### 3. (Função com retorno sem parâmetro) Faça um programa contendo uma função/método que leia a base e a altura de um triângulo e retorne/apresente sua área A = (base x altura)/2."
      ]
    },
    {
      "cell_type": "code",
      "metadata": {
        "id": "nU0x1v2Vt1-w"
      },
      "source": [
        "def function():\n",
        "  base = float(input('Digite a base do triangulo (cm): '))\n",
        "  altura = float(input('Digite a altura do triangulo (cm): '))\n",
        "  return (base*altura)/2\n",
        "def main():\n",
        "  print('A Área do triangulo é: ',str(function()),' cm²')\n",
        "main()"
      ],
      "execution_count": null,
      "outputs": []
    },
    {
      "cell_type": "markdown",
      "metadata": {
        "id": "W0slzp_rt2Iu"
      },
      "source": [
        "### 4. (Função com retorno sem parâmetro) Faça um programa contendo uma função/método que leia o lado de um quadrado e retorne sua área, area = lado²."
      ]
    },
    {
      "cell_type": "code",
      "metadata": {
        "id": "hH2UZstHvFs2"
      },
      "source": [
        "def function():\n",
        "  q = float(input('Digite o lado do quadrado (m): '))\n",
        "  return q*q\n",
        "def main():\n",
        "  print('A área do quadrado é: ',str(function()),' m² ')\n",
        "main()"
      ],
      "execution_count": null,
      "outputs": []
    },
    {
      "cell_type": "markdown",
      "metadata": {
        "id": "hfkLntgNTWN1"
      },
      "source": [
        "###5. (Função com retorno sem parâmetro) Faça um programa contendo uma função/método  que verifique se um número é par, retorne mostrando a str/string ‘É par’ ou se ‘É ímpar’."
      ]
    },
    {
      "cell_type": "code",
      "metadata": {
        "id": "YIp7ES5deRo8"
      },
      "source": [
        "def function():\n",
        "  number = int(input('Digite o numero: '))\n",
        "  if number%2==0:\n",
        "    return 'Par'\n",
        "  else:\n",
        "    return 'Impar'\n",
        "def main():\n",
        "  valid=function()\n",
        "  print('O numero é par?\\n ',valid)\n",
        "main()"
      ],
      "execution_count": null,
      "outputs": []
    },
    {
      "cell_type": "markdown",
      "metadata": {
        "id": "RIGUAKHveTJS"
      },
      "source": [
        "###6. (Função com retorno sem parâmetro) Faça um programa contendo uma função/método  que verifique se um número é par, retorne/mostre o valor bool **True** para par e **False** para ímpar."
      ]
    },
    {
      "cell_type": "code",
      "metadata": {
        "id": "Q6LPIy_LCQuO"
      },
      "source": [
        "def function():\n",
        "  number = int(input('Digite o numero: '))\n",
        "  if number%2==0:\n",
        "    return True\n",
        "  else:\n",
        "    return False\n",
        "def main():\n",
        "  valid=function()\n",
        "  print('O numero é par?\\n ',valid)\n",
        "main()"
      ],
      "execution_count": null,
      "outputs": []
    },
    {
      "cell_type": "markdown",
      "metadata": {
        "id": "JgYwP3n1CQ_U"
      },
      "source": [
        "### 7. (Função com retorno sem parâmetro) Faça uma função/método que leia e armazene 5 elementos inteiros no vetor A, deverá ser gerado um vetor B, de mesmo tamanho, que armazenará o fatorial de cada elemento de A. Não use função pronta de cálculo de fatorial. Retorne/apresente o vetor B."
      ]
    },
    {
      "cell_type": "code",
      "metadata": {
        "id": "34fIP0epT69d",
        "colab": {
          "base_uri": "https://localhost:8080/"
        },
        "outputId": "188fb142-7f9a-4b6d-d0cf-23db31e3b902"
      },
      "source": [
        "# Exemplo:\n",
        "# A = [5  ,4 ,3,2,1]\n",
        "# B = [120,24,6,2,1]\n",
        "def function():\n",
        "  A = []\n",
        "  B = []\n",
        "  for x in range(5):\n",
        "    A.append(int(input('Digite o valor para o vetor(A) na posição '+str(x)+' = ')))\n",
        "    fatorial=1\n",
        "    for y in range(A[x]):\n",
        "      fatorial=fatorial+fatorial*y\n",
        "    B.append(fatorial)\n",
        "  return B\n",
        "def main():\n",
        "  print(function())\n",
        "main()"
      ],
      "execution_count": null,
      "outputs": [
        {
          "output_type": "stream",
          "name": "stdout",
          "text": [
            "Digite o valor para o vetor(A) na posição 0 = 5\n",
            "Digite o valor para o vetor(A) na posição 1 = 4\n",
            "Digite o valor para o vetor(A) na posição 2 = 3\n",
            "Digite o valor para o vetor(A) na posição 3 = 4\n",
            "Digite o valor para o vetor(A) na posição 4 = 1\n",
            "[120, 24, 6, 24, 1]\n"
          ]
        }
      ]
    },
    {
      "cell_type": "markdown",
      "metadata": {
        "id": "_aPd4c1b3OjS"
      },
      "source": [
        "### 8. (Função com retorno sem parâmetro) Faça uma função/método retorne um vetor com os três primeiros números perfeitos. Sabe-se que um número é perfeito quando é igual a soma de seus divisores (exceto ele mesmo). \n",
        "Exemplo: os divisores de 6 são 1, 2 e 3, e 1 + 2 + 3 = 6, logo 6 é perfeito. Não use função pronta.\n",
        "\n",
        "1º número perfeito: 6\n",
        "\n",
        "2º número perfeito: 28\n",
        "\n",
        "3º número perfeito: 496"
      ]
    },
    {
      "cell_type": "code",
      "metadata": {
        "id": "fb6TwQ_yh_To"
      },
      "source": [
        "def function():\n",
        "  numbers_perfeito = []\n",
        "  for x in range(1,497):\n",
        "    soma = 0\n",
        "    for number in range(1,x):\n",
        "      if x % number ==0:\n",
        "        soma = soma + number\n",
        "    if soma == x:\n",
        "      numbers_perfeito.append(soma)\n",
        "  return numbers_perfeito\n",
        "def main():\n",
        "  vetor=function()\n",
        "  for x in range(len(vetor)):\n",
        "    print('Numero perfeito: ',vetor[x])\n",
        "main()"
      ],
      "execution_count": null,
      "outputs": []
    },
    {
      "cell_type": "markdown",
      "metadata": {
        "id": "HAz_eYfhzg06"
      },
      "source": [
        "### 9. (Função com retorno sem parâmetro) Foi realizada uma pesquisa sobre algumas características físicas de cinco habitantes de uma região. Foram coletados os seguintes dados de cada habitante: idade, sexo (M - masculino ou F - feminino), cor dos olhos (A - azuis ou C - castanhos), cor dos cabelos (L - louros, P - pretos ou C - castanhos).\n",
        "\n",
        "1.   Faça uma função/método que leia esses dados, armazenando-os em vetores (listas);\n",
        "2.   Faça uma função/método que determine e devolva a função principal a média de idades das pessoas com olhos castanhos e cabelos pretos;\n",
        "3. Faça uma função/método que determine e devolva a função principal a maior idade entre os habitantes;\n",
        "4.  Faça uma função/método que determine e devolva a função principal a quantidade de indivíduos do sexo feminino com idade entre 18 e 35 anos(inclusive) e que tenham olhos azuis e cabelos louros.\n"
      ]
    },
    {
      "cell_type": "code",
      "metadata": {
        "id": "7Ez7TgiQvbTD"
      },
      "source": [
        "# Declarar os vetores antes de qualquer programação, indica que \n",
        "# que estas variáveis serão globais a todo o restante do programa \n",
        "# e das funções \n",
        "idade = []\n",
        "sexo = []\n",
        "olho = []\n",
        "cabelo = []\n",
        "cfg=5 #Variavel de configurção\n",
        "def valid_f_idade():\n",
        "  contador=0\n",
        "  for x in range(cfg):\n",
        "    if sexo[x].upper()==\"F\" and idade[x]>=18 and idade[x]<=35:\n",
        "      contador=contador+1\n",
        "  return contador\n",
        "def maior_idade():\n",
        "  maior=0\n",
        "  for x in range(cfg):\n",
        "    if idade[x]>maior:\n",
        "      maior=idade[x]\n",
        "  return maior\n",
        "def media_idade():\n",
        "  idade_soma=0\n",
        "  contador=0\n",
        "  for x in range(cfg):\n",
        "    if olho[x].upper()==\"C\" and cabelo[x].upper()==\"P\":\n",
        "      contador=contador+1\n",
        "      idade_soma=idade_soma+idade[x]\n",
        "  if contador==0:\n",
        "    return 0\n",
        "  else:\n",
        "    return idade_soma/contador     \n",
        "def cadastrar():\n",
        "  for x in range(cfg):\n",
        "    print('Bem vindo participante da pesquisa ',x,' =============')\n",
        "    idade.append(int(input('Digite a sua idade: ')))\n",
        "    sexo.append(input('Digite o seu sexo (M - Masculino / F - Feminino): '))\n",
        "    olho.append(input('Digite a cor dos seus olhos (A - Azuis / C - Castanho): '))\n",
        "    cabelo.append(input('Digite a cor do seu cabelo (L - Loiros / P - Pretos / C - Castanho): '))\n",
        "  print('Dados cadastrados com sucesso. ')\n",
        "def main():\n",
        "  cadastrar()\n",
        "  media_idades=media_idade()\n",
        "  m_idade=maior_idade()\n",
        "  valid_sexo_idade=valid_f_idade()\n",
        "  print('A Media das idades das pessoas com olhos castanhos e cabelos pretos: ',media_idades)\n",
        "  print('A maior idade entre os habitantes é: ',m_idade)\n",
        "  print('Individuos do Sexo feminino com faixa etaria (18 a 35 anos): ',valid_sexo_idade)\n",
        "main()"
      ],
      "execution_count": null,
      "outputs": []
    }
  ]
}