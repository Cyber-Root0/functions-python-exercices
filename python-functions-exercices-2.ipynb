{
  "cells": [
    {
      "cell_type": "markdown",
      "metadata": {
        "id": "view-in-github",
        "colab_type": "text"
      },
      "source": [
        "<a href=\"https://colab.research.google.com/github/Cyber-Root0/functions-python-exercices/blob/main/python-functions-exercices-2.ipynb\" target=\"_parent\"><img src=\"https://colab.research.google.com/assets/colab-badge.svg\" alt=\"Open In Colab\"/></a>"
      ]
    },
    {
      "cell_type": "markdown",
      "metadata": {
        "id": "skN-Wz61xZzi"
      },
      "source": [
        "### 1. (Função sem retorno com parâmetro) Faça um programa contendo uma função/método que leia um número e o multiplique por 2, apresente o resultado. Este é um exemplo de PASSAGEM DE PARÂMETRO POR VALOR. "
      ]
    },
    {
      "cell_type": "code",
      "execution_count": null,
      "metadata": {
        "id": "Wbjafj_QxWP-"
      },
      "outputs": [],
      "source": [
        "def multiplicar(num):# a variável num é nomeada como parâmetro na DEFINIÇÃO\n",
        "# DA FUNÇÃO, ocorre num = numero, implicitamente, ou seja, o valor de numero é\n",
        "# COPIADO/ATRIBUÍDO na num, isto é chamado de passagem de parâmetro por valor\n",
        "    r = num * 2\n",
        "    print('O resultado da multiplicação é',r)\n",
        "\n",
        "def main():\n",
        "    numero = int(input('Digite um número: '))\n",
        "    multiplicar(numero) # a variável numero nomeada como argumento NA CHAMADA DA FUNÇÃO\n",
        "    \n",
        "main()    "
      ]
    },
    {
      "cell_type": "markdown",
      "metadata": {
        "id": "wEJHqPgPNiyD"
      },
      "source": [
        "###2. (Função sem retorno com parâmetro) Faça um programa contendo uma função/método, sem parâmetro, que leia um nome e diga 'Olá nome, tudo bem?'. Crie outra função com o parâmetro nome, para que a mesma receba da main o nome digitado e apresente a mesma frase, este é um exemplo de PASSAGEM DE PARÂMETRO POR VALOR. "
      ]
    },
    {
      "cell_type": "code",
      "execution_count": null,
      "metadata": {
        "colab": {
          "base_uri": "https://localhost:8080/"
        },
        "id": "K02Kf9ja9K4d",
        "outputId": "d63e385b-7c76-40f1-fcb3-62299de0a900"
      },
      "outputs": [
        {
          "name": "stdout",
          "output_type": "stream",
          "text": [
            "Digite um nome: Cyber root\n",
            "Olá  Cyber root  tudo bem?\n"
          ]
        }
      ],
      "source": [
        "def function(nome):\n",
        "  print('Olá ',nome,' tudo bem?')\n",
        "def main():\n",
        "  function(input('Digite um nome: '))\n",
        "main()\n",
        "\n"
      ]
    },
    {
      "cell_type": "markdown",
      "metadata": {
        "id": "0jPoba3-yLnG"
      },
      "source": [
        "### 3. (Função sem retorno com parâmetro) Faça um programa contendo uma função/método para subtrair dois números e apresentar o resultado. Aqui deverá ocorrer, PASSAGEM DE PARÂMETRO POR VALOR. "
      ]
    },
    {
      "cell_type": "code",
      "execution_count": null,
      "metadata": {
        "id": "UHD2oMlJyLzc"
      },
      "outputs": [],
      "source": [
        "def function(a,b):\n",
        "  print('Subtração de: ',a,'-',b,'=',a-b)\n",
        "def main():\n",
        "  a = int(input('Digite um número: '))\n",
        "  b = int(input('Digite outro número: '))\n",
        "  function(a,b)\n",
        "main()"
      ]
    },
    {
      "cell_type": "markdown",
      "metadata": {
        "id": "_aPd4c1b3OjS"
      },
      "source": [
        "### 4. (Função sem retorno com parâmetro) Faça uma função/método para a partir de um preço de um produto informado, calcular e apresentar o novo preço reajustado em 9%. Aqui deverá ocorrer, PASSAGEM DE PARÂMETRO POR VALOR. "
      ]
    },
    {
      "cell_type": "code",
      "execution_count": null,
      "metadata": {
        "id": "Cg-NIjInzfmU"
      },
      "outputs": [],
      "source": [
        "def function(preco):\n",
        "  new_price=preco+(9/100*preco)\n",
        "  print('O Novo preço é: ',new_price)\n",
        "def main():\n",
        "  function(float(input('Digite um preço: ')))\n",
        "main()"
      ]
    },
    {
      "cell_type": "markdown",
      "metadata": {
        "id": "JgYwP3n1CQ_U"
      },
      "source": [
        "### 5. (Função sem retorno com parâmetro) Faça uma função/método para a partir de um preço de um produto informado, calcular e apresentar o novo preço reajustado em alguma porcentagem que deve ser informada (digitada) pelo usuário. Aqui deverá ocorrer, PASSAGEM DE PARÂMETRO POR VALOR. "
      ]
    },
    {
      "cell_type": "code",
      "execution_count": null,
      "metadata": {
        "colab": {
          "base_uri": "https://localhost:8080/"
        },
        "id": "Q6LPIy_LCQuO",
        "outputId": "aaffb826-4565-4c26-82bc-796d2bc882e7"
      },
      "outputs": [
        {
          "name": "stdout",
          "output_type": "stream",
          "text": [
            "Digite o preço R$: 250\n",
            "Digite a porcentagem do reajuste %: 10\n",
            "O novo preço é R$:  275.0\n"
          ]
        }
      ],
      "source": [
        "def function(price,p):\n",
        "  new_price=price+(p/100*price)\n",
        "  print('O novo preço é R$: ',new_price)\n",
        "def main():\n",
        "  price=float(input('Digite o preço R$: '))\n",
        "  p=float(input('Digite a porcentagem do reajuste %: '))\n",
        "  function(price,p)\n",
        "main()\n"
      ]
    },
    {
      "cell_type": "markdown",
      "metadata": {
        "id": "fZNXRUrrh_g9"
      },
      "source": [
        "### 6. (Função sem retorno com parâmetro) Faça uma função/método para a partir de um valor inicial e um valor final realizar o acumulo desse valores e apresentar o resultado. Não use vetor. Aqui deverá ocorrer para as duas variáveis, PASSAGEM DE PARÂMETRO POR VALOR. \n",
        "    Exemplo:\n",
        "        a = 2\n",
        "        b = 8\n",
        "        // 2 + 3 + 4 + 5 + 6 + 7 + 8 = 35\n",
        "        r = 35"
      ]
    },
    {
      "cell_type": "code",
      "execution_count": null,
      "metadata": {
        "colab": {
          "base_uri": "https://localhost:8080/"
        },
        "id": "fb6TwQ_yh_To",
        "outputId": "c53b4f22-cfee-4a94-fe06-c9e548731c5f"
      },
      "outputs": [
        {
          "name": "stdout",
          "output_type": "stream",
          "text": [
            "Digite um valor inicial: 3\n",
            "Digite um valor final: 5\n",
            "A soma dos numeros é:  12\n"
          ]
        }
      ],
      "source": [
        "def function(a,b):\n",
        "  total=0\n",
        "  for x in range(a,b+1):\n",
        "    total=total+x\n",
        "  print('A soma dos numeros é: ',total)\n",
        "def main():\n",
        "  a = int(input('Digite um valor inicial: '))\n",
        "  b = int(input('Digite um valor final: '))\n",
        "  function(a,b)\n",
        "main()\n"
      ]
    },
    {
      "cell_type": "markdown",
      "metadata": {
        "id": "Go_7xqNQq2oY"
      },
      "source": [
        "### 7. (Função sem retorno com parâmetro) Faça uma função/método para calcular a tabuada de um número informado pelo usuário. Crie outra função que calcule a tabuada de um intervalo, por exemplo realize as taduabas do 3 ao 8. Aqui deverá ocorrer para as duas funções, PASSAGEM DE PARÂMETRO POR VALOR. "
      ]
    },
    {
      "cell_type": "code",
      "execution_count": null,
      "metadata": {
        "colab": {
          "base_uri": "https://localhost:8080/"
        },
        "id": "qA3MK3i1lJ-B",
        "outputId": "ba4756f9-714c-4c43-a8cb-9875e41720a6"
      },
      "outputs": [
        {
          "name": "stdout",
          "output_type": "stream",
          "text": [
            "Digite um número: 2\n",
            "Digite o intervalo inicial: 2\n",
            "Digite o intervalo final: 5\n",
            "2  X  1 = 2\n",
            "2  X  2 = 4\n",
            "2  X  3 = 6\n",
            "2  X  4 = 8\n",
            "2  X  5 = 10\n",
            "2  X  6 = 12\n",
            "2  X  7 = 14\n",
            "2  X  8 = 16\n",
            "2  X  9 = 18\n",
            "2  X  10 = 20\n",
            "============= Função Tabuada Finalizada =============\n",
            "Tabuada do:  2\n",
            "1  X  2 = 2\n",
            "2  X  2 = 4\n",
            "3  X  2 = 6\n",
            "4  X  2 = 8\n",
            "5  X  2 = 10\n",
            "6  X  2 = 12\n",
            "7  X  2 = 14\n",
            "8  X  2 = 16\n",
            "9  X  2 = 18\n",
            "10  X  2 = 20\n",
            "Tabuada do:  3\n",
            "1  X  3 = 3\n",
            "2  X  3 = 6\n",
            "3  X  3 = 9\n",
            "4  X  3 = 12\n",
            "5  X  3 = 15\n",
            "6  X  3 = 18\n",
            "7  X  3 = 21\n",
            "8  X  3 = 24\n",
            "9  X  3 = 27\n",
            "10  X  3 = 30\n",
            "Tabuada do:  4\n",
            "1  X  4 = 4\n",
            "2  X  4 = 8\n",
            "3  X  4 = 12\n",
            "4  X  4 = 16\n",
            "5  X  4 = 20\n",
            "6  X  4 = 24\n",
            "7  X  4 = 28\n",
            "8  X  4 = 32\n",
            "9  X  4 = 36\n",
            "10  X  4 = 40\n",
            "Tabuada do:  5\n",
            "1  X  5 = 5\n",
            "2  X  5 = 10\n",
            "3  X  5 = 15\n",
            "4  X  5 = 20\n",
            "5  X  5 = 25\n",
            "6  X  5 = 30\n",
            "7  X  5 = 35\n",
            "8  X  5 = 40\n",
            "9  X  5 = 45\n",
            "10  X  5 = 50\n",
            "============ Função Intervalo finalizado =============\n"
          ]
        }
      ],
      "source": [
        "def function_tabuada(a):\n",
        "  for x in range(1,11):\n",
        "    print(a,' X ',x,'=',x*a)\n",
        "  print('============= Função Tabuada Finalizada =============')\n",
        "def function_intervalo(b,c):\n",
        "  for x in range(b,c+1):\n",
        "    print('Tabuada do: ',x)\n",
        "    for y in range(1,11):\n",
        "      print(y,' X ',x,'=',x*y)\n",
        "  print('============ Função Intervalo finalizado =============')\n",
        "def main():\n",
        "  a= int(input('Digite um número: '))\n",
        "  b = int(input('Digite o intervalo inicial: '))\n",
        "  c = int(input('Digite o intervalo final: '))\n",
        "  function_tabuada(a)\n",
        "  function_intervalo(b,c)\n",
        "main()"
      ]
    },
    {
      "cell_type": "markdown",
      "metadata": {
        "id": "HAz_eYfhzg06"
      },
      "source": [
        "### 8. (Função sem retorno com parâmetro) Faça uma função/método que calcule a média de um aluno que realizou duas provas (P1 e P2), a partir desta média, chame/crie OUTRA função que verifique se esta média aprova ou reprova o aluno. Aqui deverá ocorrer nas duas funções, PASSAGEM DE PARÂMETRO POR VALOR. \n"
      ]
    },
    {
      "cell_type": "code",
      "execution_count": null,
      "metadata": {
        "colab": {
          "base_uri": "https://localhost:8080/"
        },
        "id": "73QPAAO0q2Wo",
        "outputId": "57234ba1-fd8d-4953-dcb5-3ee7451c3dc0"
      },
      "outputs": [
        {
          "name": "stdout",
          "output_type": "stream",
          "text": [
            "Digite a nota da p1: 2\n",
            "Digite a nota da p2: 9\n",
            "Aluno Aprovado\n"
          ]
        }
      ],
      "source": [
        "def media(p1,p2):\n",
        "  valida_nota((p1+p2/2))\n",
        "def valida_nota(media):\n",
        "  if media<5:\n",
        "    print('Aluno Reprovado!')\n",
        "  else:\n",
        "    print('Aluno Aprovado')\n",
        "def main():\n",
        "  p1=int(input('Digite a nota da p1: '))\n",
        "  p2=int(input('Digite a nota da p2: '))\n",
        "  media(p1,p2)\n",
        "main()"
      ]
    },
    {
      "cell_type": "markdown",
      "metadata": {
        "id": "qC3ghcOalLBi"
      },
      "source": [
        "### 9. (Função sem retorno com parâmetro) Faça uma função/método sem parâmetro, para ler um valor e chamar/criar OUTRA função (com parâmetro) que mostre se o valor é par ou ímpar."
      ]
    },
    {
      "cell_type": "code",
      "execution_count": null,
      "metadata": {
        "id": "BgfVTL9-0WQi"
      },
      "outputs": [],
      "source": [
        "def get_value():\n",
        "  v=int(input('Digite um valor: '))\n",
        "  par_impar(v)\n",
        "def par_impar(valor):\n",
        "  if valor%2==0:\n",
        "    print('O numero é par!')\n",
        "  else:\n",
        "    print('O numero é impar!')  \n",
        "def main():\n",
        "  get_value()\n",
        "main()"
      ]
    },
    {
      "cell_type": "markdown",
      "metadata": {
        "id": "IGOQmdAe0myM"
      },
      "source": [
        "### 10. (Função sem retorno com parâmetro) Faça uma função/método para verificar se um nome digitado é igual a ‘Ana’, mostre o valor True ou False como resposta. Aqui deverá ocorrer, PASSAGEM DE PARÂMETRO POR VALOR. "
      ]
    },
    {
      "cell_type": "code",
      "execution_count": null,
      "metadata": {
        "id": "A4-CekXy0vrz"
      },
      "outputs": [],
      "source": [
        "def valid_name(name):\n",
        "  if name=='Ana':\n",
        "    print('True')\n",
        "  else:\n",
        "  print('False')\n",
        "def main():\n",
        "  valid_name(input('Digite um nome: '))\n",
        "main()"
      ]
    },
    {
      "cell_type": "markdown",
      "metadata": {
        "id": "W2PqWZm20v6M"
      },
      "source": [
        "### 11. (Função sem retorno com parâmetro) Faça uma função/método para verificar e contar quantas letras **a** tem numa frase. Não use NENHUMA função pronta da linguagem Python. Aqui deverá ocorrer, PASSAGEM DE PARÂMETRO POR VALOR. "
      ]
    },
    {
      "cell_type": "code",
      "execution_count": null,
      "metadata": {
        "id": "U9eTKxuz1c7S"
      },
      "outputs": [],
      "source": [
        "def count_a(frase):\n",
        "  reset=0\n",
        "  for x in range(len(frase)):\n",
        "    if frase[x]==\"a\" or frase[x]==\"A\":\n",
        "      reset=reset+1\n",
        "  print('Existem ',reset,' letras (A/a) nessa frase!')\n",
        "def main():\n",
        "  frase = input('Digite uma frase: ')\n",
        "  count_a(frase)\n",
        "  print('Programa finalizado')\n",
        "main()"
      ]
    },
    {
      "cell_type": "markdown",
      "metadata": {
        "id": "wIYQpV6Mb25T"
      },
      "source": [
        "###12. Faça uma função/método para verificar uma senha, contando/apresentando quantos dígitos numéricos e quantas letras existem. Aqui deverá ocorrer, PASSAGEM DE PARÂMETRO POR VALOR. "
      ]
    },
    {
      "cell_type": "code",
      "execution_count": null,
      "metadata": {
        "colab": {
          "base_uri": "https://localhost:8080/"
        },
        "id": "xIeP1_WUgUqr",
        "outputId": "5a8094a6-e610-47b6-f9ff-dee696410228"
      },
      "outputs": [
        {
          "output_type": "stream",
          "name": "stdout",
          "text": [
            "Digite uma senha segura: jn87897b\n",
            "Essa senha tem  5  numeros decimais\n",
            "E tambem existem  3  letras\n"
          ]
        }
      ],
      "source": [
        "def valid_password(password):\n",
        "  count_decimal=0\n",
        "  for x in range(len(password)):\n",
        "    if password[x].isdecimal():\n",
        "      count_decimal=count_decimal+1\n",
        "  print('Essa senha tem ',count_decimal,' numeros decimais')\n",
        "  print('E tambem existem ',len(password)-count_decimal,' letras')\n",
        "def main():\n",
        "  password = input('Digite uma senha segura: ')\n",
        "  valid_password(password)\n",
        "main()"
      ]
    },
    {
      "cell_type": "markdown",
      "metadata": {
        "id": "WGOqpxQagVBT"
      },
      "source": [
        "###13. Uma senha deve ser criada a partir da seguinte regra:\n",
        "*   Dois primeiros números\n",
        "*   Um caracter especial\n",
        "*   Cinco letras\n",
        "\n",
        "### Faça uma função/método para verificar esta senha esta correta ou não, use FATIAMENTO DE STR Aqui deverá ocorrer, PASSAGEM DE PARÂMETRO POR VALOR. "
      ]
    },
    {
      "cell_type": "code",
      "execution_count": null,
      "metadata": {
        "id": "jZpGxvdRj1CE"
      },
      "outputs": [],
      "source": [
        "def valid_password(password):\n",
        "  alfabeto=['A','B','C','D','E','F','G','H','J','J','K','L','M','N','O','P','Q','R','S','T','U','V','W','X','Y','Z','I']\n",
        "  if (len(password)<8 or password[0].isdecimal()==False or password[1].isdecimal()==False):\n",
        "    print('Sua senha tem menos que 8 caracteres/os 2 primeiros digitos não são decimais/')\n",
        "  else:\n",
        "    letras=0\n",
        "    caracter_especial=password.isalnum()\n",
        "    for x in range(2,len(password)):\n",
        "      if password[x].upper() in alfabeto:\n",
        "        letras=letras+1\n",
        "    if caracter_especial==False and letras>=5:\n",
        "        print('Senha válida, parabens!')\n",
        "    else:\n",
        "      print('Senha inválida, é necessário ter ao menos 1 caracter especial e no minimo 5 letras :)')\n",
        "def main():\n",
        "  valid_password(input('Digite a senha: '))\n",
        "main()"
      ]
    }
  ],
  "metadata": {
    "colab": {
      "collapsed_sections": [],
      "provenance": [],
      "include_colab_link": true
    },
    "kernelspec": {
      "display_name": "Python 3",
      "name": "python3"
    },
    "accelerator": "GPU",
    "gpuClass": "standard"
  },
  "nbformat": 4,
  "nbformat_minor": 0
}