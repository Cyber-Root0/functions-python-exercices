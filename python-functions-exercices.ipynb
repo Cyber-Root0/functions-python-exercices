{
  "nbformat": 4,
  "nbformat_minor": 0,
  "metadata": {
    "colab": {
      "provenance": [],
      "collapsed_sections": [],
      "include_colab_link": true
    },
    "kernelspec": {
      "name": "python3",
      "display_name": "Python 3"
    }
  },
  "cells": [
    {
      "cell_type": "markdown",
      "metadata": {
        "id": "view-in-github",
        "colab_type": "text"
      },
      "source": [
        "<a href=\"https://colab.research.google.com/github/Cyber-Root0/functions-python-exercices/blob/main/python-functions-exercices.ipynb\" target=\"_parent\"><img src=\"https://colab.research.google.com/assets/colab-badge.svg\" alt=\"Open In Colab\"/></a>"
      ]
    },
    {
      "cell_type": "markdown",
      "metadata": {
        "id": "skN-Wz61xZzi"
      },
      "source": [
        "### 1. (Função sem retorno sem parâmetro) Faça um programa contendo uma função/método que apresente o valor 1 se o número digitado for positivo e 0 se for negativo."
      ]
    },
    {
      "cell_type": "code",
      "source": [
        "number=int(input('Digite o numero: '))\n",
        "def valid_number():\n",
        "  if number<0:\n",
        "    print('0')\n",
        "  else:\n",
        "    print('1')\n",
        "valid_number()  "
      ],
      "metadata": {
        "id": "xPwnHKnifEU5"
      },
      "execution_count": null,
      "outputs": []
    },
    {
      "cell_type": "markdown",
      "metadata": {
        "id": "0jPoba3-yLnG"
      },
      "source": [
        "### 2. (Função sem retorno sem parâmetro) Faça uma função/método que leia dois valores positivos e apresente a soma dos N números existentes entre eles (inclusive). \n",
        "    Exemplo: \n",
        "        a = 2\n",
        "        b = 8\n",
        "        2 + 3 + 4 + 5 + 6 + 7 + 8\n",
        "        soma = 35"
      ]
    },
    {
      "cell_type": "code",
      "metadata": {
        "id": "UHD2oMlJyLzc",
        "colab": {
          "base_uri": "https://localhost:8080/"
        },
        "outputId": "255e560d-5b76-417a-8fbe-bfccebe425c6"
      },
      "source": [
        "def function():\n",
        "  a = int(input('Digitei o 1° valor: '))\n",
        "  b = int(input('Digite o 2° valor: '))\n",
        "  soma=0\n",
        "  for x in range(a,b+1):\n",
        "    if (x==a):\n",
        "      print(x,' ',end=\"\")\n",
        "    else:\n",
        "      print(' + ',x,end=\"\")\n",
        "    soma = soma + x\n",
        "  print('\\nsoma = ',soma,end=\"\\n\")\n",
        "def main():\n",
        "  function()\n",
        "\n",
        "main()"
      ],
      "execution_count": null,
      "outputs": [
        {
          "output_type": "stream",
          "name": "stdout",
          "text": [
            "Digitei o 1° valor: 2\n",
            "Digite o 2° valor: 4\n",
            "2   +  3 +  4\n",
            "soma =  9\n"
          ]
        }
      ]
    },
    {
      "cell_type": "markdown",
      "metadata": {
        "id": "HAz_eYfhzg06"
      },
      "source": [
        "### 3. (Função sem retorno sem parâmetro) Faça uma função/método que receba três números inteiros *a*, *b*, *c* que sejam divisíveis por ***a***. Os valores *b* e *c* representam o intervalo da estrutura de repetição. Apresente a quantidade e os números divisíveis. Não pode usar vetor e função pronta da linguagem Python.\n",
        "    Exemplo:\n",
        "        a = 5\n",
        "        b = 1\n",
        "        c = 10\n",
        "        1 % a\n",
        "        2 % a\n",
        "        3 % a\n",
        "        4 % a\n",
        "        5 % a este valor é divisível\n",
        "        6 % a\n",
        "        7\n",
        "        8\n",
        "        9\n",
        "        10 % a este valor é divisível\n",
        "        qtde = 2\n",
        "        Números divisíveis 5, 10"
      ]
    },
    {
      "cell_type": "code",
      "metadata": {
        "id": "Cg-NIjInzfmU",
        "colab": {
          "base_uri": "https://localhost:8080/"
        },
        "outputId": "230b4088-3c3d-4be2-dd8c-acb3a867378e"
      },
      "source": [
        "def function():\n",
        "  a = int(input('Digitei o 1° valor: '))\n",
        "  b = int(input('Digite o 2° valor: '))\n",
        "  c = int(input('Digite o 2° valor: '))\n",
        "  qtd_divisives=0\n",
        "  divisiveis=''\n",
        "  for x in range(b,c+1):\n",
        "    if x%a==0:\n",
        "      print(x,' % ',a,' este valor é divisivel')\n",
        "      qtd_divisives=qtd_divisives+1\n",
        "    else:\n",
        "      print(x,' % ',a,' este valor não é divisivel')\n",
        "  print('quantidade de numeros divisiveis: ',qtd_divisives)\n",
        "def main():\n",
        "  function()\n",
        "\n",
        "main()"
      ],
      "execution_count": null,
      "outputs": [
        {
          "output_type": "stream",
          "name": "stdout",
          "text": [
            "Digitei o 1° valor: 5\n",
            "Digite o 2° valor: 1\n",
            "Digite o 2° valor: 10\n",
            "1  %  5  este valor não é divisivel\n",
            "2  %  5  este valor não é divisivel\n",
            "3  %  5  este valor não é divisivel\n",
            "4  %  5  este valor não é divisivel\n",
            "5  %  5  este valor é divisivel\n",
            "6  %  5  este valor não é divisivel\n",
            "7  %  5  este valor não é divisivel\n",
            "8  %  5  este valor não é divisivel\n",
            "9  %  5  este valor não é divisivel\n",
            "10  %  5  este valor é divisivel\n",
            "quantidade de numeros divisiveis:  2\n"
          ]
        }
      ]
    },
    {
      "cell_type": "markdown",
      "metadata": {
        "id": "_aPd4c1b3OjS"
      },
      "source": [
        "### 4. (Função sem retorno sem parâmetro) Faça uma função/método que leia um único valor representado em segundos, converta-o e apresente o resultado em horas, minutos e segundos.\n",
        "    h = segundos / 3600\n",
        "    r = resto(segundos / 3600)\n",
        "    m = r / 60\n",
        "    s = resto(r / 60)\n",
        "    Observação 1: resto de uma divisão em Python %.\n",
        "    Observação 2: a hora, o minuto e o segundo devem ser apresentados como números inteiros. "
      ]
    },
    {
      "cell_type": "code",
      "metadata": {
        "id": "Q6LPIy_LCQuO"
      },
      "source": [
        "def function():\n",
        "  s = int(input('Digite o valor em segundos: '))\n",
        "  m = int(s/60)\n",
        "  h = int(m/60)\n",
        "  print('Horas: ',h)\n",
        "  print('Minutos: ',m)\n",
        "  print('Segundos: ',s)\n",
        "def main():\n",
        "  function()\n",
        "main()"
      ],
      "execution_count": null,
      "outputs": []
    },
    {
      "cell_type": "markdown",
      "metadata": {
        "id": "JgYwP3n1CQ_U"
      },
      "source": [
        "### 5. (Função sem retorno sem parâmetro) Faça uma função/método que receba o preço antigo e atual de um produto, determine o percentual de acréscimo entre esses valores e apresente-o.\n",
        "    r = (100 * preco_novo - 100 * preco_antigo) / preco_antigo"
      ]
    },
    {
      "cell_type": "code",
      "metadata": {
        "id": "fb6TwQ_yh_To"
      },
      "source": [
        "def function():\n",
        "  p_antigo=float(input('Digite o preço antigo: '))\n",
        "  p_atual=float(input('Digite o preço atual: '))\n",
        "  r = (100*p_atual - 100 * p_antigo)/ p_antigo\n",
        "  print('Acrescimo(%): ',r)\n",
        "def main():\n",
        "  function()\n",
        "main()"
      ],
      "execution_count": null,
      "outputs": []
    },
    {
      "cell_type": "markdown",
      "metadata": {
        "id": "fZNXRUrrh_g9"
      },
      "source": [
        "### 6. (Função sem retorno sem parâmetro) Faça uma função/método que leia um valor inteiro entre 1 e 9 e mostre a seguinte tabela de **multiplicação**\n",
        "Neste exemplo foi escolhido o número 9.\n",
        "\n",
        "    1    \n",
        "    2     4\n",
        "    3     6     9\n",
        "    4     8    12    16\n",
        "    5    10    15    20    25\n",
        "    6    12    18    24    30    36\n",
        "    7    14    21    28    35    42    49\n",
        "    8    16    24    32    40    48    56    64   \n",
        "    9    18    27    36    45    54    63    72    81\n",
        "    for i = 1 até n\n",
        "       for j = 1 até i\n",
        "       \n",
        "    Observação: configure o print para não pular linha, use o parâmetro end."
      ]
    },
    {
      "cell_type": "code",
      "metadata": {
        "id": "qA3MK3i1lJ-B",
        "colab": {
          "base_uri": "https://localhost:8080/"
        },
        "outputId": "545eccdb-5079-456f-80e0-18cbe7cc0e8c"
      },
      "source": [
        "def function():\n",
        "  n = int(input('Digite um valor entre 1 e 9: '))\n",
        "  if (n>=1 and n<=9):\n",
        "    for x in range(1,n+1):\n",
        "      for y in range(1,x+1):\n",
        "        print(x*y,'\\t',end=\"\")\n",
        "        if (x*y/x==x):\n",
        "          print('\\n')\n",
        "    print('\\nPrograma Finalizado!')     \n",
        "  else:\n",
        "    print('Numero não está entre 1 e 9\\nPrograma finalizado! :)')  \n",
        "def main():\n",
        "  function()\n",
        "main()\n",
        "\n",
        "\n",
        "\n",
        "# Para ter a mesma forma de apresentação use assim o print(r, end = '\\t')"
      ],
      "execution_count": null,
      "outputs": [
        {
          "output_type": "stream",
          "name": "stdout",
          "text": [
            "Digite um valor entre 1 e 9: 9\n",
            "1 \t\n",
            "\n",
            "2 \t4 \t\n",
            "\n",
            "3 \t6 \t9 \t\n",
            "\n",
            "4 \t8 \t12 \t16 \t\n",
            "\n",
            "5 \t10 \t15 \t20 \t25 \t\n",
            "\n",
            "6 \t12 \t18 \t24 \t30 \t36 \t\n",
            "\n",
            "7 \t14 \t21 \t28 \t35 \t42 \t49 \t\n",
            "\n",
            "8 \t16 \t24 \t32 \t40 \t48 \t56 \t64 \t\n",
            "\n",
            "9 \t18 \t27 \t36 \t45 \t54 \t63 \t72 \t81 \t\n",
            "\n",
            "\n",
            "Programa Finalizado!\n"
          ]
        }
      ]
    },
    {
      "cell_type": "markdown",
      "metadata": {
        "id": "qC3ghcOalLBi"
      },
      "source": [
        "### 7. (Função sem retorno sem parâmetro) Faça uma função/método que leia três notas de um aluno e uma letra, se a letra for igual a *A*, deverá calcular a média aritimética das notas dos alunos, se for *P*, deverá calcular a média ponderada, com pesos 5, 3 e 2. A média deve ser mostrada ao final.\n",
        "N1, N2 e N3 são notas.\n",
        "\n",
        "P1, P2 e P3 são pesos.\n",
        "\n",
        "Média ponderada = (N1 * P1 + N2 * P2 + N3 * P3 ) / (P1 + P2 + P3)"
      ]
    },
    {
      "cell_type": "code",
      "metadata": {
        "id": "73QPAAO0q2Wo"
      },
      "source": [
        "def function():\n",
        "  n1= int(input('Digite a 1° Nota: '))\n",
        "  n2=int(input('Digite a 2° Nota: '))\n",
        "  n3=int(input('Digite a 3° Nota: '))\n",
        "  p1=5\n",
        "  p2=3\n",
        "  p3=2\n",
        "  letra=input('Digite  a letra (A) - (P): ')\n",
        "  if letra==\"A\" or letra==\"a\":\n",
        "    media=(n1+n2+n3)/3\n",
        "    print()\n",
        "  elif letra==\"P\" or letra==\"p\":\n",
        "    media= (n1*p1+n2*p2+n3*p3)/(p1+p2+p3)\n",
        "    print()\n",
        "  print('A media é: ',media)\n",
        "def main():\n",
        "  function()\n",
        "main()\n",
        "\n"
      ],
      "execution_count": null,
      "outputs": []
    },
    {
      "cell_type": "markdown",
      "metadata": {
        "id": "Go_7xqNQq2oY"
      },
      "source": [
        "### 8. (Função sem retorno sem parâmetro) Faça uma função/método que leia uma hora de início e de término de um jogo, ambas divididas em dois valores distintos: hora e minuto. Deverá ser apresentado a duração expressa em minutos, considerando que o tempo máximo de duração de um jogo é de 24 horas e que ele pode começar em um dia e terminar no outro.\n",
        "    se m_f < m_i\n",
        "        m_f = m_f + 60\n",
        "        h_f = h_f - 1\n",
        "    se h_f < h_i\n",
        "        h_f = h_f + 24\n",
        "    tot_m = m_f - m_i\n",
        "    tot_h = h_f - h_i\n",
        "    total = tot_h * 60 + tot_m "
      ]
    },
    {
      "cell_type": "code",
      "metadata": {
        "id": "BgfVTL9-0WQi"
      },
      "source": [
        "def function():\n",
        "  m_i=int(input('Digite o minuto inicial do um jogo: '))\n",
        "  m_f=int(input('Digite o minuto final do um jogo: '))\n",
        "  h_i=int(input('Digite a hora inicial do um jogo: '))\n",
        "  h_f=int(input('Digite a hora final do um jogo: '))\n",
        "  if m_f < m_i:\n",
        "    m_f = m_f + 60\n",
        "    h_f = h_f - 1\n",
        "  if h_f < h_i:\n",
        "    h_f = h_f + 24\n",
        "  tot_m = m_f - m_i\n",
        "  tot_h = h_f - h_i\n",
        "  total = tot_h * 60 + tot_m\n",
        "  print('Os minutos totais são: ',total,' minutos') \n",
        "def main():\n",
        "  function()\n",
        "\n",
        "main()\n",
        "\n"
      ],
      "execution_count": null,
      "outputs": []
    },
    {
      "cell_type": "markdown",
      "metadata": {
        "id": "IGOQmdAe0myM"
      },
      "source": [
        "### 9. (Função sem retorno sem parâmetro) Faça uma função/método que leia cinco valores inteiros, determine e mostre o maior e o menor deles. Não pode usar vetor e função pronta da linguagem Python."
      ]
    },
    {
      "cell_type": "code",
      "metadata": {
        "id": "A4-CekXy0vrz"
      },
      "source": [
        "def function():\n",
        "  maior=0\n",
        "  menor=0\n",
        "  for x in range(1,6):\n",
        "    n=float(input('Digite o numero: '))\n",
        "    if maior==0 and menor==0:\n",
        "      maior=n\n",
        "      menor=n\n",
        "    elif n>maior:\n",
        "      maior=n\n",
        "    elif n<menor:\n",
        "      menor=n\n",
        "  print('O maior é: ',maior)\n",
        "  print('O menor é: ',menor)\n",
        "    \n",
        "def main():\n",
        "  function()\n",
        "\n",
        "main()"
      ],
      "execution_count": null,
      "outputs": []
    },
    {
      "cell_type": "markdown",
      "metadata": {
        "id": "W2PqWZm20v6M"
      },
      "source": [
        "### 10. (Função sem retorno sem parâmetro) Faça uma função/método que leia um valor inteiro e positivo N e mostre o valor de S, obtido pelo seguinte cálculo: \n",
        "###S = 1  +  1/1!  +  1/2!  +  1/3!  + ... +  1/N!\n",
        "\n",
        "Observvação: Não pode usar vetor e função pronta da linguagem Python."
      ]
    },
    {
      "cell_type": "code",
      "metadata": {
        "id": "U9eTKxuz1c7S"
      },
      "source": [
        "def function():\n",
        "  n=int(input('Digite um valor: '))\n",
        "  total=1\n",
        "  fatorial=1\n",
        "  for y in range(1,n+1):\n",
        "    fatorial=fatorial*y\n",
        "    print(fatorial)\n",
        "    total=total+(1/fatorial)\n",
        "      #if y == x+1:\n",
        "       # fatorial=1 #zerar o valor do fatorial, pode ser um problema\n",
        "  print('O valor total é: ',total)\n",
        "\n",
        "def main():\n",
        "  function()\n",
        "main()"
      ],
      "execution_count": null,
      "outputs": []
    }
  ]
}