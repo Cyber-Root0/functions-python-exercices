{
  "nbformat": 4,
  "nbformat_minor": 0,
  "metadata": {
    "colab": {
      "provenance": [],
      "collapsed_sections": []
    },
    "kernelspec": {
      "name": "python3",
      "display_name": "Python 3"
    }
  },
  "cells": [
    {
      "cell_type": "markdown",
      "metadata": {
        "id": "skN-Wz61xZzi"
      },
      "source": [
        "### 1. (Função com retorno com parâmetro) Faça um programa contendo uma função/método que receba por parâmetro um número e o multiplique por 2, retorne e apresente o resultado da função."
      ]
    },
    {
      "cell_type": "code",
      "source": [
        "'''def multiplicar(numero):\n",
        "    r = numero * 2\n",
        "    # Python permite o retorno de \n",
        "    # mais que uma variável, se precisar\n",
        "    return numero, r '''\n",
        "\n",
        "def multiplicar(numero):\n",
        "    r = numero * 2\n",
        "    # Mais comum na programação, \n",
        "    # retorno de UMA variável\n",
        "    return r \n",
        "\n",
        "def main():\n",
        "    n = int (     input('Informe o número: ')      )\n",
        "    print(multiplicar(n)) \n",
        "    '''# ou chamada da função com mais de uma variável de retorno\n",
        "    a, b = multiplicar(n)\n",
        "    print('O número digitado foi: ', a)\n",
        "    print('O resultado é',b)'''\n",
        "     \n",
        "main()"
      ],
      "metadata": {
        "id": "G0T6-NaVVafP",
        "colab": {
          "base_uri": "https://localhost:8080/"
        },
        "outputId": "3772dfa4-ef20-42c5-ce8d-10c261bca39d"
      },
      "execution_count": null,
      "outputs": [
        {
          "output_type": "stream",
          "name": "stdout",
          "text": [
            "Informe o número: 9\n",
            "18 9\n"
          ]
        }
      ]
    },
    {
      "cell_type": "markdown",
      "metadata": {
        "id": "0jPoba3-yLnG"
      },
      "source": [
        "### 2. (Função com retorno com parâmetro) Faça um programa contendo uma função/método que receba dois números via parâmetro, some os dois valores, retorne e apresente o resultado."
      ]
    },
    {
      "cell_type": "code",
      "metadata": {
        "id": "UHD2oMlJyLzc"
      },
      "source": [
        "def f_sum(num1,num2):\n",
        "  return num1+num2\n",
        "def main():\n",
        "  print('O resultado da soma é: ',f_sum(float(input('Digite o 1° Numero: ')),float(input('Digite o 2° Numero: '))))\n",
        "main()"
      ],
      "execution_count": null,
      "outputs": []
    },
    {
      "cell_type": "markdown",
      "metadata": {
        "id": "4zGuLRRXt0D_"
      },
      "source": [
        "### 3. (Função com retorno com parâmetro) Faça um programa contendo uma função/método que receba um valor de porcentagem de aumento via parâmetro, aplique este aumento a um salário de um funcionário, retorne e apresente o novo salário."
      ]
    },
    {
      "cell_type": "code",
      "metadata": {
        "id": "nU0x1v2Vt1-w",
        "colab": {
          "base_uri": "https://localhost:8080/"
        },
        "outputId": "d5a9cf9e-d1fd-4a66-fdb3-81e363cd325d"
      },
      "source": [
        "def f_porc(salario,porcent):\n",
        "  return salario+(porcent/100*salario)\n",
        "def main():\n",
        "  print('O Novo Salario é: ', f_porc(float(input('Digite o valor do salário: ')),int(input('Digite o valor da porcentagem: '))))\n",
        "main()"
      ],
      "execution_count": null,
      "outputs": [
        {
          "output_type": "stream",
          "name": "stdout",
          "text": [
            "Digite o valor do salário: 1000\n",
            "Digite o valor da porcentagem: 10\n",
            "O Novo Salario é:  1100.0\n"
          ]
        }
      ]
    },
    {
      "cell_type": "markdown",
      "metadata": {
        "id": "RIGUAKHveTJS"
      },
      "source": [
        "### 4. (Função com retorno com parâmetro) Faça um programa contendo uma função/método que receba duas notas (P1, P2) calcule a média, chame outra função na main que avalie se este aluno esta aprovado ou reprovado retornando a str/string 'Aprovado' ou 'Reprovado'."
      ]
    },
    {
      "cell_type": "code",
      "metadata": {
        "id": "hH2UZstHvFs2"
      },
      "source": [
        "def valid(media):\n",
        "  if media<5:\n",
        "    return 'Reprovado'\n",
        "  else:\n",
        "    return 'Aprovado'\n",
        "def f_media(p1,p2):\n",
        "  return (p1+p2)/2\n",
        "def main():\n",
        "  print('O Aluno foi ',valid(f_porc(float(input('Digite o valor da p1: ')),float(input('Digite o valor da p2: ')))))\n",
        "main()"
      ],
      "execution_count": null,
      "outputs": []
    },
    {
      "cell_type": "markdown",
      "metadata": {
        "id": "hfkLntgNTWN1"
      },
      "source": [
        "### 5. (Função com retorno com parâmetro) Faça um programa contendo uma função/método que receba um valor de porcentagem de aumento e um salário via parâmetro, aplique este aumento ao salário do funcionário. Na parte principal do programa, na chamada da função, utilize um laço de repetição para ler 10 salários, chame a função para aplicar o aumento e gerar o novo salário, ainda dentro da estrutura de repetição acumule os novos salários e ao final apresente quanto será gasto no novo salário. Também apresente qual será a diferença entre o que se pagava para todos os funcionário e o que será pago após o aumento."
      ]
    },
    {
      "cell_type": "code",
      "metadata": {
        "id": "fxdxfiezw8Bs"
      },
      "source": [
        "cfg = 2 # Variavel de configuração do sistema\n",
        "def f_porc(salario,porcent):\n",
        "  return salario+(porcent/100*salario)\n",
        "def main():\n",
        "  salario=[]\n",
        "  novo_salario=[]\n",
        "  for x in range(cfg):\n",
        "    s = float(input('Digite o salario'+' n°'+str(x)+' : '))\n",
        "    p = int(input('Digite o valor da porcentagem'+' n°'+str(x)+' : '))\n",
        "    salario.append(s)\n",
        "    novo_salario.append(f_porc(s,p))\n",
        "  for x in range(cfg):\n",
        "    print('Salario Antigo: ',salario[x],'- Salario Novo: ',novo_salario[x],' | Aumento de : ',' R$ ',novo_salario[x]-salario[x])\n",
        "main()\n"
      ],
      "execution_count": null,
      "outputs": []
    },
    {
      "cell_type": "markdown",
      "metadata": {
        "id": "W0slzp_rt2Iu"
      },
      "source": [
        "### 6. (Função com retorno com parâmetro) Faça um programa contendo algumas funções:\n",
        "a) Função para construir um menu de opções para uma calculadora, como neste exemplo:\n",
        "\n",
        "    Menu de cálculos\n",
        "    1.   Número ao quadrado\n",
        "    2.   Número ao cubo\n",
        "    3.   Raiz do número\n",
        "    4.   Raiz cúbica do número\n",
        "    Qual é a opção desejada?\n",
        "\n",
        "b) Desenvolva uma função para cada opção de cálculo.\n",
        "\n",
        "Observação: Na chamada da função deve-se utilizar uma estrutura de repetição que permita diversos cálculos, quando o usuário quiser sair da calculadora digitará qualquer valor diferente dos **números** do menu.\n",
        "\n",
        "A função da construção do menu, chamará todas as outras passando a elas o valor digitado.\n",
        "\n",
        "\n",
        "\n",
        "\n"
      ]
    },
    {
      "cell_type": "code",
      "metadata": {
        "id": "ik7rbrWyw41F"
      },
      "source": [
        "import math\n",
        "#FUNCTIONS\n",
        "def f_quad(v1):\n",
        "  return v1*v1\n",
        "def f_cubo(v1):\n",
        "  return v1*v1*v1\n",
        "def f_raiz(v1):\n",
        "  return math.pow(v1, 1/2)\n",
        "def f_raiz_cubica(v1):\n",
        "  raiz = math.pow(v1, 1/3)\n",
        "def f_menu(cont):\n",
        "  print('1 - Número ao quadrado')\n",
        "  print('2 - Numero ao cubo')\n",
        "  print('3 - raiz do número')\n",
        "  print('4 - Raiz Cúbica do número')\n",
        "  print('==================================')\n",
        "  option = int(input('Digite a Opção: '))\n",
        "  if option == 1:\n",
        "    v1 = float(input('Digite o '+str(cont)+'° valor'))\n",
        "    value= f_quad(v1)\n",
        "    print('Resultado: ',value,'\\n')\n",
        "    return True\n",
        "  elif option==2:\n",
        "    v1 = float(input('Digite o Valor: '))\n",
        "    value = f_cubo(v1)\n",
        "    print('Resultado: ',value,'\\n')\n",
        "    return True\n",
        "  elif option==3:\n",
        "    v1 = float(input('Digite o Valor: '))\n",
        "    value = f_raiz(v1)\n",
        "    print('Resultado: ',value,'\\n')\n",
        "    return True\n",
        "  elif option==4:\n",
        "    v1 = float(input('Digite o Valor: '))\n",
        "    value = f_raiz_cubica(v1)\n",
        "    print('Resultado: ',value,'\\n')\n",
        "    return True\n",
        "  else:\n",
        "    return False\n",
        "#SYSTEM\n",
        "def main():\n",
        "  exec=True\n",
        "  cont = 1\n",
        "  while exec==True:\n",
        "    valid = f_menu(cont)\n",
        "    cont=cont+1\n",
        "    if valid == False:\n",
        "      exec=False\n",
        "main()"
      ],
      "execution_count": null,
      "outputs": []
    },
    {
      "cell_type": "markdown",
      "metadata": {
        "id": "_aPd4c1b3OjS"
      },
      "source": [
        "### 7. (Função com retorno com parâmetro) Faça um programa contendo algumas funções:\n",
        "a) Função para construir um menu de opções para uma calculadora:\n",
        "\n",
        "    *** Minha Calculadora ***\n",
        "    Digite um número.....: \n",
        "    Digite outro número..: \n",
        "        + Soma dois números\n",
        "        - Subtrai dois números\n",
        "        * Multiplica dois números\n",
        "        / Divide dois números\n",
        "    Qual opção deseja? \n",
        "\n",
        "b) Desenvolva uma função para cada opção de cálculo, **mas estas não terão retorno**.\n",
        "\n",
        "Observação: Na chamada da função deve-se utilizar uma estrutura de repetição que permita diversos cálculos, quando o usuário quiser sair da calculadora digitará qualquer valor diferente dos **caracteres** do menu.\n",
        "\n",
        "A função da construção do menu, chamará todas as outras passando a elas os valores digitados.\n"
      ]
    },
    {
      "cell_type": "code",
      "metadata": {
        "id": "Q6LPIy_LCQuO"
      },
      "source": [
        "import math\n",
        "#FUNCTIONS\n",
        "def f_soma(v1,v2):\n",
        "  print('O resultado é: ',v1+v2)\n",
        "def f_sub(v1,v2):\n",
        "  print('O resultado é: ',v1-v2)\n",
        "def f_mult(v1,v2):\n",
        "  print('O resultado é: ',v1*v2)\n",
        "def f_div(v1,v2):\n",
        "  print('O resultado é: ',v1/v2)\n",
        "def f_menu(cont):\n",
        "  print('+ - Número ao quadrado')\n",
        "  print('- - Numero ao cubo')\n",
        "  print('* - raiz do número')\n",
        "  print('/ - Raiz Cúbica do número')\n",
        "  print('==================================')\n",
        "  option = input('Digite a Opção: ')\n",
        "  if option == \"+\":\n",
        "    v1 = float(input('Digite o 1° valor'))\n",
        "    v2 = float(input('Digite o 2° valor'))\n",
        "    f_soma(v1,v2)\n",
        "    return True\n",
        "  elif option==\"-\":\n",
        "    v1 = float(input('Digite o Valor: '))\n",
        "    v2 = float(input('Digite o '+str(cont)+'° valor'))\n",
        "    f_sub(v1,v2)\n",
        "    return True\n",
        "  elif option==\"*\":\n",
        "    v1 = float(input('Digite o Valor: '))\n",
        "    v2 = float(input('Digite o '+str(cont)+'° valor'))\n",
        "    f_mult(v1,v2)\n",
        "    return True\n",
        "  elif option==\"/\":\n",
        "    v1 = float(input('Digite o Valor: '))\n",
        "    v2 = float(input('Digite o '+str(cont)+'° valor'))\n",
        "    f_div(v1,v2)\n",
        "    return True\n",
        "  else:\n",
        "    return False\n",
        "#SYSTEM\n",
        "def main():\n",
        "  exec=True\n",
        "  cont = 1\n",
        "  while exec==True:\n",
        "    valid = f_menu(cont)\n",
        "    cont=cont+1\n",
        "    if valid == False:\n",
        "      exec=False\n",
        "main()"
      ],
      "execution_count": null,
      "outputs": []
    },
    {
      "cell_type": "markdown",
      "metadata": {
        "id": "3XRPufcfd10w"
      },
      "source": [
        "### 8. (Função com retorno com parâmetro) Faça um programa contendo algumas funções:\n",
        "a) Função para construir um menu de opções para uma calculadora:\n",
        "\n",
        "    *** Minha Calculadora ***\n",
        "    Digite um número.....: \n",
        "    Digite outro número..: \n",
        "        + Soma dois números\n",
        "        - Subtrai dois números\n",
        "        * Multiplica dois números\n",
        "        / Divide dois números\n",
        "    Qual opção deseja? \n",
        "\n",
        "b) Desenvolva uma função para cada opção de cálculo, que deverá ter retorno.\n",
        "\n",
        "Observação: Na chamada da função deve-se utilizar uma estrutura de repetição que permita diversos cálculos, quando o usuário quiser sair da calculadora digitará qualquer valor diferente dos **caracteres** do menu.\n",
        "\n",
        "A função de desenho/construção do menu, chamará todas as outras passando a elas os valores digitados."
      ]
    },
    {
      "cell_type": "code",
      "metadata": {
        "id": "e0fZnaiYhgpc"
      },
      "source": [
        "import math\n",
        "#FUNCTIONS\n",
        "def f_soma(v1,v2):\n",
        "  return v1+v2\n",
        "def f_sub(v1,v2):\n",
        "  return v1-v2\n",
        "def f_mult(v1,v2):\n",
        "  return v1*v2\n",
        "def f_div(v1,v2):\n",
        "  return v1/v2\n",
        "def f_menu(cont):\n",
        "  print('+ - Número ao quadrado')\n",
        "  print('- - Numero ao cubo')\n",
        "  print('* - raiz do número')\n",
        "  print('/ - Raiz Cúbica do número')\n",
        "  print('==================================')\n",
        "  option = input('Digite a Opção: ')\n",
        "  if option == \"+\":\n",
        "    v1 = float(input('Digite o 1° valor'))\n",
        "    v2 = float(input('Digite o 2° valor'))\n",
        "    value= f_soma(v1,v2)\n",
        "    print('Resultado: ',value,'\\n')\n",
        "    return True\n",
        "  elif option==\"-\":\n",
        "    v1 = float(input('Digite o Valor: '))\n",
        "    v2 = float(input('Digite o '+str(cont)+'° valor'))\n",
        "    value = f_sub(v1,v2)\n",
        "    print('Resultado: ',value,'\\n')\n",
        "    return True\n",
        "  elif option==\"*\":\n",
        "    v1 = float(input('Digite o Valor: '))\n",
        "    v2 = float(input('Digite o '+str(cont)+'° valor'))\n",
        "    value = f_mult(v1,v2)\n",
        "    print('Resultado: ',value,'\\n')\n",
        "    return True\n",
        "  elif option==\"/\":\n",
        "    v1 = float(input('Digite o Valor: '))\n",
        "    v2 = float(input('Digite o '+str(cont)+'° valor'))\n",
        "    value = f_div(v1,v2)\n",
        "    print('Resultado: ',value,'\\n')\n",
        "    return True\n",
        "  else:\n",
        "    return False\n",
        "#SYSTEM\n",
        "def main():\n",
        "  exec=True\n",
        "  cont = 1\n",
        "  while exec==True:\n",
        "    valid = f_menu(cont)\n",
        "    cont=cont+1\n",
        "    if valid == False:\n",
        "      exec=False\n",
        "main()"
      ],
      "execution_count": null,
      "outputs": []
    }
  ]
}